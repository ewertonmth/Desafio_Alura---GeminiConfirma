{
  "nbformat": 4,
  "nbformat_minor": 0,
  "metadata": {
    "colab": {
      "provenance": [],
      "authorship_tag": "ABX9TyPp2AQO9Zdv0LV4VGisn5dW",
      "include_colab_link": true
    },
    "kernelspec": {
      "name": "python3",
      "display_name": "Python 3"
    },
    "language_info": {
      "name": "python"
    }
  },
  "cells": [
    {
      "cell_type": "markdown",
      "metadata": {
        "id": "view-in-github",
        "colab_type": "text"
      },
      "source": [
        "<a href=\"https://colab.research.google.com/github/ewertonmth/Desafio_Alura---GeminiConfirma/blob/main/GeminiConfirma2_0_public.ipynb\" target=\"_parent\"><img src=\"https://colab.research.google.com/assets/colab-badge.svg\" alt=\"Open In Colab\"/></a>"
      ]
    },
    {
      "cell_type": "code",
      "source": [
        "# Instalação e configuração do Gemini 2.0 Flash no Google Colab\n",
        "!pip install -q google-generativeai\n",
        "\n",
        "import google.generativeai as genai\n",
        "\n",
        "# Configuração com a sua chave da API\n",
        "genai.configure(api_key=\"SUA_API_KEY\")  # ← Substitua por sua chave!\n",
        "\n",
        "# Inicializa o modelo Gemini 2.0 Flash\n",
        "modelo = genai.GenerativeModel(model_name=\"gemini-2.0-flash\")\n",
        "\n",
        "# Teste de conexão com o modelo\n",
        "try:\n",
        "    resposta = modelo.generate_content(\"Diga 'ok' se você está funcionando corretamente.\")\n",
        "    print(\"✅ Conectado com sucesso ao Gemini 2.0 Flash!\")\n",
        "    print(\"Resposta de teste:\", resposta.text)\n",
        "except Exception as e:\n",
        "    print(\"❌ Erro ao conectar à API do Gemini:\", e)"
      ],
      "metadata": {
        "colab": {
          "base_uri": "https://localhost:8080/",
          "height": 72
        },
        "id": "faRSL1e2ynM5",
        "outputId": "79a5a75c-752c-4c76-9466-9632b17cdead"
      },
      "execution_count": null,
      "outputs": [
        {
          "output_type": "stream",
          "name": "stdout",
          "text": [
            "✅ Conectado com sucesso ao Gemini 2.0 Flash!\n",
            "Resposta de teste: ok\n",
            "\n"
          ]
        }
      ]
    },
    {
      "cell_type": "code",
      "execution_count": 1,
      "metadata": {
        "id": "joAe54CxxYOp",
        "colab": {
          "base_uri": "https://localhost:8080/",
          "height": 219
        },
        "outputId": "3cccc137-c811-4b85-b5c1-a75c76bbab6f"
      },
      "outputs": [
        {
          "output_type": "error",
          "ename": "NameError",
          "evalue": "name 'GOOGLE_API_KEY' is not defined",
          "traceback": [
            "\u001b[0;31m---------------------------------------------------------------------------\u001b[0m",
            "\u001b[0;31mNameError\u001b[0m                                 Traceback (most recent call last)",
            "\u001b[0;32m<ipython-input-1-d691cbcd9885>\u001b[0m in \u001b[0;36m<cell line: 0>\u001b[0;34m()\u001b[0m\n\u001b[1;32m      4\u001b[0m \u001b[0mGOOGLE_CSE_ID\u001b[0m \u001b[0;34m=\u001b[0m \u001b[0;34m\"SUA_CSE_ID\"\u001b[0m \u001b[0;31m# ← Substitua por sua chave!\u001b[0m\u001b[0;34m\u001b[0m\u001b[0;34m\u001b[0m\u001b[0m\n\u001b[1;32m      5\u001b[0m \u001b[0;34m\u001b[0m\u001b[0m\n\u001b[0;32m----> 6\u001b[0;31m \u001b[0;32mdef\u001b[0m \u001b[0mgoogle_search\u001b[0m\u001b[0;34m(\u001b[0m\u001b[0mquery\u001b[0m\u001b[0;34m,\u001b[0m \u001b[0mapi_key\u001b[0m\u001b[0;34m=\u001b[0m\u001b[0mGOOGLE_API_KEY\u001b[0m\u001b[0;34m,\u001b[0m \u001b[0mcse_id\u001b[0m\u001b[0;34m=\u001b[0m\u001b[0mGOOGLE_CSE_ID\u001b[0m\u001b[0;34m,\u001b[0m \u001b[0mnum_results\u001b[0m\u001b[0;34m=\u001b[0m\u001b[0;36m3\u001b[0m\u001b[0;34m)\u001b[0m\u001b[0;34m:\u001b[0m\u001b[0;34m\u001b[0m\u001b[0;34m\u001b[0m\u001b[0m\n\u001b[0m\u001b[1;32m      7\u001b[0m     \"\"\"\n\u001b[1;32m      8\u001b[0m     \u001b[0mRealiza\u001b[0m \u001b[0muma\u001b[0m \u001b[0mbusca\u001b[0m \u001b[0mno\u001b[0m \u001b[0mGoogle\u001b[0m \u001b[0mCustom\u001b[0m \u001b[0mSearch\u001b[0m \u001b[0me\u001b[0m \u001b[0mretorna\u001b[0m \u001b[0mos\u001b[0m \u001b[0mtítulos\u001b[0m \u001b[0me\u001b[0m \u001b[0mlinks\u001b[0m \u001b[0mdos\u001b[0m \u001b[0mprincipais\u001b[0m \u001b[0mresultados\u001b[0m\u001b[0;34m.\u001b[0m\u001b[0;34m\u001b[0m\u001b[0;34m\u001b[0m\u001b[0m\n",
            "\u001b[0;31mNameError\u001b[0m: name 'GOOGLE_API_KEY' is not defined"
          ]
        }
      ],
      "source": [
        "import requests\n",
        "\n",
        "# Função para buscar no Google Custom Search (adicione suas credenciais)\n",
        "GOOGLE_CSE_ID = \"SUA_CSE_ID\" # ← Substitua por sua chave!\n",
        "\n",
        "def google_search(query, api_key=GOOGLE_API_KEY, cse_id=GOOGLE_CSE_ID, num_results=3):\n",
        "    \"\"\"\n",
        "    Realiza uma busca no Google Custom Search e retorna os títulos e links dos principais resultados.\n",
        "    \"\"\"\n",
        "    url = \"https://www.googleapis.com/customsearch/v1\"\n",
        "    params = {\n",
        "        \"key\": api_key,\n",
        "        \"cx\": cse_id,\n",
        "        \"q\": query,\n",
        "        \"num\": num_results\n",
        "    }\n",
        "    try:\n",
        "        response = requests.get(url, params=params)\n",
        "        response.raise_for_status()\n",
        "        items = response.json().get(\"items\", [])\n",
        "        resultados = []\n",
        "        for item in items:\n",
        "            titulo = item.get(\"title\")\n",
        "            link = item.get(\"link\")\n",
        "            resultados.append(f\"{titulo}: {link}\")\n",
        "        return \"\\n\".join(resultados) if resultados else \"Nenhum resultado encontrado.\"\n",
        "    except Exception as e:\n",
        "        return f\"Erro na busca Google: {e}\""
      ]
    },
    {
      "cell_type": "code",
      "source": [
        "# Função de requisição ao Gemini com temperatura\n",
        "def gemini_request(prompt, model=modelo, temperature=0.7):\n",
        "        \"\"\"\n",
        "        Envia um prompt para o modelo Gemini e retorna a resposta.\n",
        "        Permite configurar a temperatura para ajustar o nível de criatividade.\n",
        "        \"\"\"\n",
        "        try:\n",
        "            response = model.generate_content(\n",
        "                prompt,\n",
        "                generation_config={\"temperature\": temperature}\n",
        "            )\n",
        "            return response.text.strip()\n",
        "        except Exception as e:\n",
        "            return f\"[Erro na requisição Gemini: {e}]\""
      ],
      "metadata": {
        "id": "RnRC8uLoxjxy"
      },
      "execution_count": null,
      "outputs": []
    },
    {
      "cell_type": "code",
      "source": [
        "# Agente 1: Geração do resumo (temperatura 0.3)\n",
        "def gerar_resumo(texto, model=modelo):\n",
        "    prompt = f\"\"\"\n",
        "    Sua tarefa é resumir o seguinte conteúdo de forma objetiva e clara,\n",
        "    preservando os fatos principais e removendo opiniões ou exageros.\n",
        "\n",
        "    Texto original:\n",
        "    \\\"\\\"\\\"{texto}\\\"\\\"\\\"\n",
        "\n",
        "    Resuma o conteúdo acima em no máximo 5 linhas:\n",
        "    \"\"\"\n",
        "    return gemini_request(prompt, model=model, temperature=0.3)"
      ],
      "metadata": {
        "id": "_IBSmPVBxoTR"
      },
      "execution_count": null,
      "outputs": []
    },
    {
      "cell_type": "code",
      "source": [
        "def verificar_fatos(resumo, model=modelo):\n",
        "        # 1. Realiza a busca no Google usando a sua função externa\n",
        "        resultados_busca = google_search(resumo) # Usa sua função google_search e GOOGLE_CSE_ID\n",
        "\n",
        "        # 2. Monta o prompt INCLUINDO os resultados da busca\n",
        "        prompt = f\"\"\"\n",
        "        Você é um verificador de fatos. Analise o seguinte resumo de uma notícia e diga se ele apresenta informações\n",
        "        verdadeiras, falsas ou duvidosas com base no conhecimento geral, nas fontes confiáveis listadas abaixo e em informações públicas.\n",
        "\n",
        "        Resumo da notícia:\n",
        "        \\\"\\\"\\\"{resumo}\\\"\\\"\\\"\n",
        "\n",
        "        Resultados da busca no Google:\n",
        "        {resultados_busca} # Os resultados da busca são adicionados aqui\n",
        "\n",
        "        Diga se o conteúdo parece confiável, falso ou impreciso. Justifique sua análise de forma objetiva.\n",
        "        \"\"\"\n",
        "        # 3. Envia o prompt COMPLETO (com os resultados da busca) para o Gemini\n",
        "        return gemini_request(prompt, model=model, temperature=0.7)"
      ],
      "metadata": {
        "id": "GtrwQZRrxqgB"
      },
      "execution_count": null,
      "outputs": []
    },
    {
      "cell_type": "code",
      "source": [
        "# Agente 3: Análise de linguagem manipulativa (temperatura 0.7)\n",
        "def analisar_linguagem(texto, model=modelo):\n",
        "    prompt = f\"\"\"\n",
        "    Analise o seguinte texto e identifique se ele contém linguagem manipulativa, sensacionalista ou tendenciosa,\n",
        "    como apelos emocionais, exageros ou tentativa de influenciar o leitor.\n",
        "\n",
        "    Texto:\n",
        "    \\\"\\\"\\\"{texto}\\\"\\\"\\\"\n",
        "\n",
        "    Indique os principais pontos de manipulação encontrados e explique brevemente.\n",
        "    \"\"\"\n",
        "    return gemini_request(prompt, model=model, temperature=0.7)"
      ],
      "metadata": {
        "id": "2jRzhS4Zxsex"
      },
      "execution_count": null,
      "outputs": []
    },
    {
      "cell_type": "code",
      "source": [
        "# Agente 4: Geração do parecer final (temperatura 0.8)\n",
        "def gerar_parecer_final(resumo, verificacao, linguagem, model=modelo):\n",
        "    prompt = f\"\"\"\n",
        "    Com base nas informações a seguir, faça um parecer final sobre a confiabilidade da notícia,\n",
        "    usando linguagem clara e objetiva.\n",
        "\n",
        "    Resumo da notícia:\n",
        "    \\\"\\\"\\\"{resumo}\\\"\\\"\\\"\n",
        "\n",
        "    Verificação factual:\n",
        "    \\\"\\\"\\\"{verificacao}\\\"\\\"\\\"\n",
        "\n",
        "    Análise de linguagem:\n",
        "    \\\"\\\"\\\"{linguagem}\\\"\\\"\\\"\n",
        "\n",
        "    Parecer final:\n",
        "    \"\"\"\n",
        "    return gemini_request(prompt, model=model, temperature=0.8)"
      ],
      "metadata": {
        "id": "65IgOxO7xuOg"
      },
      "execution_count": null,
      "outputs": []
    },
    {
      "cell_type": "code",
      "source": [
        "# Função que integra o fluxo completo\n",
        "def analisar_texto_completo(texto):\n",
        "    resumo = gerar_resumo(texto)\n",
        "    verificacao = verificar_fatos(resumo)\n",
        "    linguagem = analisar_linguagem(texto)\n",
        "    parecer = gerar_parecer_final(resumo, verificacao, linguagem)\n",
        "\n",
        "    return {\n",
        "        \"Resumo\": resumo,\n",
        "        \"Verificação Factual\": verificacao,\n",
        "        \"Análise de Linguagem\": linguagem,\n",
        "        \"Parecer Final\": parecer\n",
        "    }"
      ],
      "metadata": {
        "id": "Nvi8WU5oxwEx"
      },
      "execution_count": null,
      "outputs": []
    },
    {
      "cell_type": "code",
      "source": [
        "# Entrada do usuário\n",
        "texto_teste = input(\"Digite o texto(ou link) da notícia ou conteúdo para análise:\\n\")\n",
        "\n",
        "# Executa a análise\n",
        "resultado = analisar_texto_completo(texto_teste)\n",
        "\n",
        "# Exibe o resultado formatado\n",
        "for etapa, texto in resultado.items():\n",
        "    print(f\"\\n--- {etapa} ---\\n{texto}\")"
      ],
      "metadata": {
        "colab": {
          "base_uri": "https://localhost:8080/",
          "height": 876
        },
        "id": "CWM2FSH6xxta",
        "outputId": "ed0cbff8-5b52-4c87-e537-0e296466b3d6"
      },
      "execution_count": null,
      "outputs": [
        {
          "output_type": "stream",
          "name": "stdout",
          "text": [
            "Digite o texto da notícia ou conteúdo para análise:\n",
            "https://www.diariodepernambuco.com.br/politica/2025/05/3893747-zema-posta-meme-de-lula-como-bebe-reborn-apertou-faz-caquinha.html\n",
            "\n",
            "--- Resumo ---\n",
            "O governador de Minas Gerais, Romeu Zema, publicou em suas redes sociais um meme que compara o presidente Lula a um bebê reborn, com a legenda \"Apertou faz caquinha\". A publicação gerou críticas e debates online sobre o teor da mensagem e a postura do governador. O meme foi interpretado por alguns como uma crítica à gestão do governo federal. A assessoria de Zema não se pronunciou sobre o caso.\n",
            "\n",
            "--- Verificação Factual ---\n",
            "Com base no resumo da notícia e na ausência de resultados da busca (devido ao erro na API do Google), a análise é a seguinte:\n",
            "\n",
            "*   **Conteúdo:** O resumo descreve um evento específico: uma publicação de um meme pelo governador Romeu Zema em suas redes sociais, comparando o presidente Lula a um bebê reborn. Menciona a repercussão da publicação e a falta de pronunciamento da assessoria de Zema.\n",
            "\n",
            "*   **Confiabilidade:** Sem os resultados da busca no Google, a verificação fica limitada. No entanto, a descrição do evento em si (a publicação do meme) é factual e plausível, condizente com o tipo de conteúdo que pode ser divulgado em redes sociais por figuras públicas. A repercussão e a falta de pronunciamento também são cenários possíveis.\n",
            "\n",
            "*   **Análise:**\n",
            "\n",
            "    *   **Verdadeiro (Provável):** Assumindo que o resumo descreve um evento real, a informação é provavelmente verdadeira. A falta de resultados da busca impede a confirmação independente, mas não há nada inerentemente implausível na descrição.\n",
            "\n",
            "*   **Justificativa:** A análise se baseia na plausibilidade do evento descrito e na ausência de informações conflitantes. A falta de acesso a fontes externas impede uma verificação mais robusta, mas não há indícios que sugiram que o resumo seja falso. A descrição da publicação, reação e silêncio da assessoria são comportamentos comuns em situações similares envolvendo figuras públicas e redes sociais.\n",
            "\n",
            "--- Análise de Linguagem ---\n",
            "Após analisar o artigo do Diário de Pernambuco, identifiquei os seguintes pontos que indicam linguagem manipulativa e tendenciosa:\n",
            "\n",
            "*   **Sensacionalismo e Apelo Emocional:** A manchete \"Zema posta meme de Lula como bebê reborn: 'apertou, faz caquinha'\" já demonstra uma tentativa de sensacionalizar a notícia. O uso da imagem de um bebê reborn associado a uma figura política, juntamente com a expressão \"apertou, faz caquinha\", busca gerar uma reação emocional no leitor, seja de indignação, humor ou repulsa, desviando o foco de uma análise mais objetiva da situação.\n",
            "\n",
            "*   **Descontextualização e Ridicularização:** A publicação de um meme ridicularizando um adversário político (Lula) por parte de outro político (Zema) é uma forma de descontextualizar debates importantes e reduzir a discussão a um nível infantilizado e ofensivo. Isso pode influenciar a opinião pública ao apresentar uma imagem depreciativa de Lula, em vez de abordar suas propostas ou ações de forma crítica e construtiva.\n",
            "\n",
            "*   **Tendenciosidade:** A escolha de noticiar e dar destaque a um meme postado por Zema, em vez de outros conteúdos relevantes, sugere uma tendência em favorecer ou dar visibilidade à sua perspectiva. A forma como a notícia é apresentada pode influenciar a percepção do leitor sobre Zema, como alguém que usa humor para criticar seus oponentes, ou sobre Lula, como alguém digno de ser ridicularizado.\n",
            "\n",
            "Em resumo, o artigo utiliza elementos de sensacionalismo, apelo emocional, descontextualização e tendenciosidade para manipular a percepção do leitor sobre os políticos envolvidos e a situação em si. Ao invés de informar de forma neutra e objetiva, a notícia busca gerar uma reação emocional e influenciar a opinião pública de maneira enviesada.\n",
            "\n",
            "--- Parecer Final ---\n",
            "**Confiabilidade da Notícia: Baixa**\n",
            "\n",
            "**Justificativa:**\n",
            "\n",
            "Embora a publicação do meme por Romeu Zema seja provavelmente factual (considerando a plausibilidade e a falta de informações conflitantes diretas), a forma como a notícia é veiculada levanta sérias preocupações sobre sua confiabilidade geral.\n",
            "\n",
            "*   **Potencial de Veracidade da Ocorrência:** O evento central da notícia (a postagem do meme) é *provavelmente* verdadeiro, embora a falta de verificação independente total impeça uma confirmação definitiva.\n",
            "\n",
            "*   **Problemas de Viés e Manipulação:** A análise da linguagem do artigo do Diário de Pernambuco revela uma clara tendência ao sensacionalismo, apelo emocional, descontextualização e ridicularização. Esses elementos indicam que a notícia não busca apresentar os fatos de forma neutra e objetiva, mas sim influenciar a opinião pública de maneira enviesada. A escolha da manchete, a ênfase no teor ofensivo do meme e a descontextualização do debate político contribuem para essa manipulação.\n",
            "\n",
            "*   **Impacto na Percepção do Leitor:** A linguagem utilizada no artigo tem o potencial de distorcer a percepção do leitor sobre os políticos envolvidos e a situação em si, dificultando a formação de uma opinião informada e equilibrada.\n",
            "\n",
            "**Recomendação:**\n",
            "\n",
            "É crucial abordar essa notícia com ceticismo e buscar outras fontes de informação para obter uma visão mais completa e imparcial do ocorrido. A cobertura jornalística que se concentra em sensacionalismo e manipulação da linguagem compromete a integridade da informação e a capacidade do público de formar julgamentos sólidos.\n"
          ]
        }
      ]
    }
  ]
}